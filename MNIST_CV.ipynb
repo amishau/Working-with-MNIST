{
 "cells": [
  {
   "cell_type": "markdown",
   "id": "dedicated-poverty",
   "metadata": {},
   "source": [
    "## Import Libraries"
   ]
  },
  {
   "cell_type": "code",
   "execution_count": 1,
   "id": "integrated-whale",
   "metadata": {},
   "outputs": [],
   "source": [
    "from mnist import MNIST\n",
    "from matplotlib import pyplot as plt\n",
    "import matplotlib.image as img\n",
    "import numpy as np\n",
    "import cv2\n",
    "from sklearn.neural_network import MLPRegressor\n",
    "from sklearn.neural_network import MLPClassifier"
   ]
  },
  {
   "cell_type": "markdown",
   "id": "raised-alexander",
   "metadata": {},
   "source": [
    "## Load MNIST data"
   ]
  },
  {
   "cell_type": "code",
   "execution_count": 2,
   "id": "boxed-longitude",
   "metadata": {},
   "outputs": [],
   "source": [
    "mndata = MNIST('C:\\mnist-data')\n",
    "train_images, train_labels = mndata.load_training()\n",
    "test_images, test_labels = mndata.load_testing()"
   ]
  },
  {
   "cell_type": "code",
   "execution_count": 3,
   "id": "future-parker",
   "metadata": {},
   "outputs": [],
   "source": [
    "np.random.seed(0)\n",
    "train_idx = np.random.choice(np.arange(len(train_images)), 10000, replace=False)\n",
    "train_idx = np.uint8(train_idx)\n",
    "test_idx = np.random.choice(np.arange(len(test_images)), 1000, replace=False)\n",
    "test_idx = np.uint8(test_idx)"
   ]
  },
  {
   "cell_type": "code",
   "execution_count": 4,
   "id": "optimum-freight",
   "metadata": {},
   "outputs": [],
   "source": [
    "train_images = [np.array(train_images[i]).reshape((28, 28)) for i in train_idx]\n",
    "test_images = [np.array(test_images[i]).reshape((28, 28)) for i in test_idx]"
   ]
  },
  {
   "cell_type": "code",
   "execution_count": 5,
   "id": "outside-aspect",
   "metadata": {},
   "outputs": [],
   "source": [
    "train_labels = [train_labels[i] for i in train_idx]\n",
    "test_labels = [test_labels[i] for i in test_idx]"
   ]
  },
  {
   "cell_type": "code",
   "execution_count": 6,
   "id": "wrong-finnish",
   "metadata": {},
   "outputs": [],
   "source": [
    "## Helper function to plot images\n",
    "def plot_imgs(Image1 ,Image2 ,Image3 ,Image4, t1='', t2='', t3='', t4='', axis='on'):\n",
    "    fig = plt.figure()\n",
    "    rows = 2\n",
    "    columns = 2\n",
    "\n",
    "    fig.add_subplot(rows, columns, 1)\n",
    "\n",
    "    plt.imshow(Image1, cmap='gray')\n",
    "    plt.axis(axis)\n",
    "    plt.title(t1)\n",
    "\n",
    "    fig.add_subplot(rows, columns, 2)\n",
    "\n",
    "    plt.imshow(Image2, cmap='gray')\n",
    "    plt.axis(axis)\n",
    "    plt.title(t2)\n",
    "\n",
    "    fig.add_subplot(rows, columns, 3)\n",
    "\n",
    "    plt.imshow(Image3, cmap='gray')\n",
    "    plt.axis(axis)\n",
    "    plt.title(t3)\n",
    "\n",
    "    fig.add_subplot(rows, columns, 4)\n",
    "\n",
    "    plt.imshow(Image4, cmap='gray')\n",
    "    plt.axis(axis)\n",
    "    plt.title(t4)\n",
    "    \n",
    "    plt.show()"
   ]
  },
  {
   "cell_type": "code",
   "execution_count": 10,
   "id": "identified-territory",
   "metadata": {},
   "outputs": [
    {
     "name": "stdout",
     "output_type": "stream",
     "text": [
      "MNIST dataset images\n"
     ]
    },
    {
     "data": {
      "image/png": "[encoded data removed]",
      "text/plain": [
       "<Figure size 432x288 with 4 Axes>"
      ]
     },
     "metadata": {
      "needs_background": "light"
     },
     "output_type": "display_data"
    }
   ],
   "source": [
    "print('MNIST dataset images')\n",
    "plot_imgs(train_images[0], train_images[1], test_images[2], test_images[10], 'Label='+str(train_labels[0]), 'Label='+str(train_labels[1]), 'Label='+str(test_labels[2]), 'Label='+str(test_labels[10]), 'off')"
   ]
  },
  {
   "cell_type": "code",
   "execution_count": 11,
   "id": "mexican-helicopter",
   "metadata": {},
   "outputs": [],
   "source": [
    "## function used to calculate TSS threshold for an image \n",
    "def tss_thresh(image):\n",
    "    Z = image.reshape((-1,1))\n",
    "    Z = np.float32(Z)\n",
    "    criteria = (cv2.TERM_CRITERIA_EPS + cv2.TERM_CRITERIA_MAX_ITER, 10, 1.0)\n",
    "    K = 2\n",
    "    ret,label,center = cv2.kmeans(Z,K,None,criteria,10,cv2.KMEANS_RANDOM_CENTERS)\n",
    "    label = label.reshape(image.shape)\n",
    "    bg_label = label[0][0]\n",
    "    return np.max(image[label==bg_label])"
   ]
  },
  {
   "cell_type": "code",
   "execution_count": 12,
   "id": "streaming-schedule",
   "metadata": {},
   "outputs": [],
   "source": [
    "tss_train_images = [tss_thresh(image) for image in train_images]\n",
    "tss_test_images = [tss_thresh(image) for image in test_images]"
   ]
  },
  {
   "cell_type": "code",
   "execution_count": 13,
   "id": "facial-earth",
   "metadata": {},
   "outputs": [
    {
     "name": "stdout",
     "output_type": "stream",
     "text": [
      "TSS Thresholds for training images: [98, 115, 97, 108, 107, 108, 108, 97, 112, 114] .....\n",
      "TSS Thresholds for testing images: [107, 64, 96, 98, 106, 107, 91, 110, 98, 103] .....\n"
     ]
    }
   ],
   "source": [
    "## TSS thresholds calculated using tss_thresh function\n",
    "## TSS thresholds for test images will act as groundtruth for training\n",
    "print('TSS Thresholds for training images:', tss_train_images[:10], '.....')\n",
    "print('TSS Thresholds for testing images:', tss_test_images[:10], '.....')"
   ]
  },
  {
   "cell_type": "code",
   "execution_count": 14,
   "id": "ignored-tragedy",
   "metadata": {},
   "outputs": [],
   "source": [
    "## function used to generate binary mask of an image given TSS threshold\n",
    "def fgs(image, thresh):\n",
    "    res_img = np.zeros(image.shape)\n",
    "    res_img[image>thresh] = 255\n",
    "    return res_img"
   ]
  },
  {
   "cell_type": "code",
   "execution_count": 15,
   "id": "technological-radio",
   "metadata": {},
   "outputs": [],
   "source": [
    "fgs_train_images = [fgs(image, thresh) for image, thresh in zip(train_images, tss_train_images)]\n",
    "fgs_test_images = [fgs(image, thresh) for image, thresh in zip(test_images, tss_test_images)]"
   ]
  },
  {
   "cell_type": "code",
   "execution_count": 17,
   "id": "damaged-corps",
   "metadata": {},
   "outputs": [
    {
     "name": "stdout",
     "output_type": "stream",
     "text": [
      "Binary masks\n"
     ]
    },
    {
     "data": {
      "image/png": "[encoded data removed]",
      "text/plain": [
       "<Figure size 432x288 with 4 Axes>"
      ]
     },
     "metadata": {
      "needs_background": "light"
     },
     "output_type": "display_data"
    }
   ],
   "source": [
    "print('Binary masks')\n",
    "plot_imgs(fgs_train_images[0], fgs_train_images[1], fgs_test_images[2], fgs_test_images[10], 'Label='+str(train_labels[0]), 'Label='+str(train_labels[1]), 'Label='+str(test_labels[2]), 'Label='+str(test_labels[10]), 'off')"
   ]
  },
  {
   "cell_type": "markdown",
   "id": "coordinate-bikini",
   "metadata": {},
   "source": [
    "## Training DL network for foreground extraction"
   ]
  },
  {
   "cell_type": "code",
   "execution_count": 18,
   "id": "moved-perfume",
   "metadata": {},
   "outputs": [],
   "source": [
    "X_train = list(map(lambda x: x.flatten(), train_images))\n",
    "X_train = np.array(X_train)\n",
    "X_test = list(map(lambda x: x.flatten(), test_images))\n",
    "X_test = np.array(X_test)\n",
    "\n",
    "y_train = np.array(tss_train_images)\n",
    "y_test = np.array(tss_test_images)"
   ]
  },
  {
   "cell_type": "code",
   "execution_count": 23,
   "id": "promising-hughes",
   "metadata": {},
   "outputs": [
    {
     "name": "stdout",
     "output_type": "stream",
     "text": [
      "TSS threshold/y_train for this image: 110\n"
     ]
    },
    {
     "data": {
      "image/png": "[encoded data removed]",
      "text/plain": [
       "<Figure size 432x288 with 1 Axes>"
      ]
     },
     "metadata": {
      "needs_background": "light"
     },
     "output_type": "display_data"
    }
   ],
   "source": [
    "## what a row in X_train and y_train look like for foreground extraction model\n",
    "plt.imshow(X_train[10].reshape((28, 28)), cmap='gray')\n",
    "plt.title('An image of X_train')\n",
    "print('TSS threshold/y_train for this image:', y_train[10])"
   ]
  },
  {
   "cell_type": "code",
   "execution_count": 21,
   "id": "settled-bailey",
   "metadata": {},
   "outputs": [],
   "source": [
    "regr = MLPRegressor(random_state=1, max_iter=500).fit(X_train, y_train)\n",
    "y_pred = regr.predict(X_test)\n",
    "y_pred = np.uint8(y_pred)"
   ]
  },
  {
   "cell_type": "code",
   "execution_count": 29,
   "id": "civilian-static",
   "metadata": {},
   "outputs": [
    {
     "name": "stdout",
     "output_type": "stream",
     "text": [
      "Actual TSS threshold: 107 \n",
      "Predicted TSS threshold: 122\n"
     ]
    },
    {
     "data": {
      "image/png": "[encoded data removed]",
      "text/plain": [
       "<Figure size 432x288 with 1 Axes>"
      ]
     },
     "metadata": {
      "needs_background": "light"
     },
     "output_type": "display_data"
    }
   ],
   "source": [
    "plt.imshow(test_images[5], cmap='gray')\n",
    "plt.title('Test image')\n",
    "print('Actual TSS threshold:', y_test[5], '\\nPredicted TSS threshold:', y_pred[5])"
   ]
  },
  {
   "cell_type": "code",
   "execution_count": 30,
   "id": "generic-announcement",
   "metadata": {},
   "outputs": [],
   "source": [
    "## function for computing jaccard similarity between two binary maps\n",
    "def jaccard(img1, img2):\n",
    "    m, n = img1.shape\n",
    "    \n",
    "    intersection = 0\n",
    "    union = 0\n",
    "    \n",
    "    for i in range(m):\n",
    "        for j in range(n):\n",
    "            if img1[i][j]==0 and img2[i][j]==0:\n",
    "                continue\n",
    "            elif img1[i][j]==255 and img2[i][j]==255:\n",
    "                intersection += 1\n",
    "                union += 1\n",
    "            else:\n",
    "                union += 1\n",
    "                \n",
    "    return intersection/union"
   ]
  },
  {
   "cell_type": "markdown",
   "id": "varied-yorkshire",
   "metadata": {},
   "source": [
    "## Average Jaccard similarity for predicted and actual foreground segmentation"
   ]
  },
  {
   "cell_type": "code",
   "execution_count": 31,
   "id": "opening-rapid",
   "metadata": {},
   "outputs": [
    {
     "name": "stdout",
     "output_type": "stream",
     "text": [
      "Average Jaccard similarity: 0.9116532940088844\n"
     ]
    }
   ],
   "source": [
    "jac_sim = np.zeros(len(test_images))\n",
    "\n",
    "for i in range(len(test_images)):\n",
    "    image = test_images[i]\n",
    "    t_img = np.zeros((28, 28))\n",
    "    t_img[image>y_test[i]] = 255 ## <--- t_img is the groundtruth foreground segmentation binary mask\n",
    "    p_img = np.zeros((28, 28))\n",
    "    p_img[image>y_pred[i]] = 255 ## <--- p_img is the predicted foreground segmentation binary mask\n",
    "    jac_sim[i]= jaccard(t_img, p_img) ## <-- computing jaccard similarity b/w grountruth and prediction\n",
    "    \n",
    "## Assuming average jaccard similarity counts as accuracy\n",
    "print(\"Average Jaccard similarity:\", np.mean(jac_sim))"
   ]
  },
  {
   "cell_type": "markdown",
   "id": "matched-storage",
   "metadata": {},
   "source": [
    "## Tight groundtruth circles that encircle the foreground"
   ]
  },
  {
   "cell_type": "code",
   "execution_count": 32,
   "id": "helpful-portfolio",
   "metadata": {},
   "outputs": [],
   "source": [
    "## function used to calculate center and radius of minimum enclosing circle\n",
    "def params(image):\n",
    "    im = np.uint8(image)\n",
    "    ret,thresh = cv2.threshold(im,127,255,0)\n",
    "    contours,hierarchy = cv2.findContours(thresh, 1, 2)\n",
    "    areas = [cv2.contourArea(c) for c in contours]\n",
    "    max_index = np.argmax(areas)\n",
    "    cnt = contours[max_index]\n",
    "\n",
    "    (x, y), radius = cv2.minEnclosingCircle(cnt)\n",
    "    (x, y), radius = (int(x), int(y)), int(radius)\n",
    "    \n",
    "    return [x, y, radius]"
   ]
  },
  {
   "cell_type": "code",
   "execution_count": 33,
   "id": "quick-steal",
   "metadata": {},
   "outputs": [],
   "source": [
    "params_train_images = [params(image) for image in fgs_train_images]\n",
    "params_test_images = [params(image) for image in fgs_test_images]"
   ]
  },
  {
   "cell_type": "code",
   "execution_count": 34,
   "id": "bright-nirvana",
   "metadata": {},
   "outputs": [
    {
     "name": "stdout",
     "output_type": "stream",
     "text": [
      "Tight circle parameters for training images: [[13, 13, 8], [12, 14, 11], [15, 14, 11]] .....\n",
      "Tight circle parameters for testing images: [[13, 13, 10], [13, 13, 10], [15, 15, 11]] .....\n",
      "Format: [x, y, radius]\n"
     ]
    }
   ],
   "source": [
    "print('Tight circle parameters for training images:', params_train_images[:3], '.....')\n",
    "print('Tight circle parameters for testing images:', params_test_images[:3], '.....')\n",
    "print('Format: [x, y, radius]')"
   ]
  },
  {
   "cell_type": "code",
   "execution_count": 35,
   "id": "functional-manual",
   "metadata": {},
   "outputs": [],
   "source": [
    "## function used to draw bounding circle on an image given center and radius\n",
    "def bcircle(image, param):\n",
    "    im = image.copy()\n",
    "    x = param[0]\n",
    "    y = param[1]\n",
    "    radius = param[2]\n",
    "    im = cv2.circle(im, (x, y), radius, (255, 255, 255), 1)\n",
    "    return im"
   ]
  },
  {
   "cell_type": "code",
   "execution_count": 36,
   "id": "existing-guarantee",
   "metadata": {},
   "outputs": [],
   "source": [
    "bcircle_train_images = [bcircle(image, param) for image, param in zip(fgs_train_images, params_train_images)]\n",
    "bcircle_test_images = [bcircle(image, param) for image, param in zip(fgs_test_images, params_test_images)]"
   ]
  },
  {
   "cell_type": "code",
   "execution_count": 38,
   "id": "amazing-knight",
   "metadata": {},
   "outputs": [
    {
     "name": "stdout",
     "output_type": "stream",
     "text": [
      "Tight groundtruth circles\n"
     ]
    },
    {
     "data": {
      "image/png": "[encoded data removed]",
      "text/plain": [
       "<Figure size 432x288 with 4 Axes>"
      ]
     },
     "metadata": {
      "needs_background": "light"
     },
     "output_type": "display_data"
    }
   ],
   "source": [
    "print('Tight groundtruth circles')\n",
    "plot_imgs(bcircle_train_images[0], bcircle_train_images[1], bcircle_test_images[2], bcircle_test_images[10], 'Label='+str(train_labels[0]), 'Label='+str(train_labels[1]), 'Label='+str(test_labels[2]), 'Label='+str(test_labels[10]), 'off')"
   ]
  },
  {
   "cell_type": "markdown",
   "id": "awful-mobility",
   "metadata": {},
   "source": [
    "## Training for classification + localization"
   ]
  },
  {
   "cell_type": "code",
   "execution_count": 39,
   "id": "urban-vitamin",
   "metadata": {},
   "outputs": [],
   "source": [
    "X_train = list(map(lambda x: x.flatten(), fgs_train_images))\n",
    "X_train = np.array(X_train)\n",
    "X_test = list(map(lambda x: x.flatten(), fgs_test_images))\n",
    "X_test = np.array(X_test)\n",
    "\n",
    "y_train = np.array(train_labels)\n",
    "y_test = np.array(test_labels)"
   ]
  },
  {
   "cell_type": "code",
   "execution_count": 42,
   "id": "fabulous-speaking",
   "metadata": {},
   "outputs": [
    {
     "name": "stdout",
     "output_type": "stream",
     "text": [
      "y_train/Label= 2\n"
     ]
    },
    {
     "data": {
      "image/png": "[encoded data removed]",
      "text/plain": [
       "<Figure size 432x288 with 1 Axes>"
      ]
     },
     "metadata": {
      "needs_background": "light"
     },
     "output_type": "display_data"
    }
   ],
   "source": [
    "## what a row in X_train and y_train look like for classification model\n",
    "plt.imshow(X_train[20].reshape((28, 28)), cmap='gray')\n",
    "plt.title('An image of X_train')\n",
    "print('y_train/Label=', y_train[20])"
   ]
  },
  {
   "cell_type": "code",
   "execution_count": 43,
   "id": "imperial-stationery",
   "metadata": {},
   "outputs": [],
   "source": [
    "clf = MLPClassifier(random_state=1, max_iter=300).fit(X_train, y_train)\n",
    "y_pred = clf.predict(X_test)"
   ]
  },
  {
   "cell_type": "code",
   "execution_count": 44,
   "id": "fixed-python",
   "metadata": {},
   "outputs": [],
   "source": [
    "## Marking which test images were classified correctly\n",
    "correct_pred = [i==j for i, j in zip(y_test, y_pred)]\n",
    "correct_pred = np.array(correct_pred)"
   ]
  },
  {
   "cell_type": "markdown",
   "id": "mental-grocery",
   "metadata": {},
   "source": [
    "## Semantic Segmentation maps"
   ]
  },
  {
   "cell_type": "code",
   "execution_count": 75,
   "id": "moving-legend",
   "metadata": {},
   "outputs": [],
   "source": [
    "## function to concatenate 4 images in 2x2 fashion\n",
    "def concat(img1, img2, img3, img4):\n",
    "    c_img1 = cv2.hconcat([img1, img2])\n",
    "    c_img2 = cv2.hconcat([img3, img4])\n",
    "    c_img = cv2.vconcat([c_img1, c_img2])\n",
    "    return c_img"
   ]
  },
  {
   "cell_type": "code",
   "execution_count": 76,
   "id": "martial-donna",
   "metadata": {},
   "outputs": [],
   "source": [
    "## function to make groundtruth semantic segmentation map\n",
    "## here background pixels will have grayscale value=10 and other pixels will have grayscale value=label \n",
    "def sseg(image, label):\n",
    "    seg_map = 10*np.ones(image.shape)\n",
    "    seg_map[image==255] = label\n",
    "    return seg_map"
   ]
  },
  {
   "cell_type": "code",
   "execution_count": 77,
   "id": "special-rental",
   "metadata": {},
   "outputs": [],
   "source": [
    "concat_train_images = []\n",
    "\n",
    "for i in range(0, len(train_images), 4):\n",
    "    c_img = concat(fgs_train_images[i], fgs_train_images[i+1], fgs_train_images[i+2], fgs_train_images[i+3])\n",
    "    concat_train_images.append(c_img)\n",
    "    \n",
    "concat_test_images = []\n",
    "\n",
    "for i in range(0, len(test_images), 4):\n",
    "    c_img = concat(fgs_test_images[i], fgs_test_images[i+1], fgs_test_images[i+2], fgs_test_images[i+3])\n",
    "    concat_test_images.append(c_img)"
   ]
  },
  {
   "cell_type": "code",
   "execution_count": 78,
   "id": "exclusive-castle",
   "metadata": {},
   "outputs": [
    {
     "data": {
      "image/png": "[encoded data removed]",
      "text/plain": [
       "<Figure size 432x288 with 1 Axes>"
      ]
     },
     "metadata": {
      "needs_background": "light"
     },
     "output_type": "display_data"
    }
   ],
   "source": [
    "plt.imshow(concat_train_images[0], cmap='gray')\n",
    "plt.title('Concatenated image in 2x2 fashion')\n",
    "plt.show()"
   ]
  },
  {
   "cell_type": "code",
   "execution_count": 79,
   "id": "expensive-mumbai",
   "metadata": {},
   "outputs": [],
   "source": [
    "seg_train_images = []\n",
    "\n",
    "for i in range(0, len(train_images), 4):\n",
    "    img1, img2, img3, img4 = sseg(fgs_train_images[i], train_labels[i]), sseg(fgs_train_images[i+1], train_labels[i+1]), sseg(fgs_train_images[i+2], train_labels[i+2]), sseg(fgs_train_images[i+3], train_labels[i+3])\n",
    "    seg_map = concat(img1, img2, img3, img4)\n",
    "    seg_train_images.append(seg_map)\n",
    "    \n",
    "seg_test_images = []\n",
    "\n",
    "for i in range(0, len(test_images), 4):\n",
    "    img1, img2, img3, img4 = sseg(fgs_test_images[i], test_labels[i]), sseg(fgs_test_images[i+1], test_labels[i+1]), sseg(fgs_test_images[i+2], test_labels[i+2]), sseg(fgs_test_images[i+3], test_labels[i+3])\n",
    "    seg_map = concat(img1, img2, img3, img4)\n",
    "    seg_test_images.append(seg_map)"
   ]
  },
  {
   "cell_type": "code",
   "execution_count": 80,
   "id": "fifteen-choir",
   "metadata": {},
   "outputs": [
    {
     "data": {
      "image/png": "[encoded data removed]",
      "text/plain": [
       "<Figure size 432x288 with 1 Axes>"
      ]
     },
     "metadata": {
      "needs_background": "light"
     },
     "output_type": "display_data"
    }
   ],
   "source": [
    "plt.imshow(seg_train_images[0], cmap='gray')\n",
    "plt.title('Semantic segmentation map')\n",
    "plt.show()"
   ]
  }
 ],
 "metadata": {
  "kernelspec": {
   "display_name": "Python 3",
   "language": "python",
   "name": "python3"
  },
  "language_info": {
   "codemirror_mode": {
    "name": "ipython",
    "version": 3
   },
   "file_extension": ".py",
   "mimetype": "text/x-python",
   "name": "python",
   "nbconvert_exporter": "python",
   "pygments_lexer": "ipython3",
   "version": "3.9.2"
  }
 },
 "nbformat": 4,
 "nbformat_minor": 5
}
